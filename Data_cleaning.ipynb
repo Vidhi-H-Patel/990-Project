{
 "cells": [
  {
   "cell_type": "code",
   "execution_count": 1,
   "metadata": {},
   "outputs": [],
   "source": [
    "#import libraries \n",
    "import pandas as pd\n",
    "import numpy as np\n",
    "from sklearn import metrics\n",
    "import matplotlib.pyplot as plt\n",
    "%matplotlib inline \n",
    "import seaborn as sns\n",
    "\n",
    "#import data file\n",
    "sample = pd.read_csv(\"original_data.csv\")"
   ]
  },
  {
   "cell_type": "code",
   "execution_count": 2,
   "metadata": {},
   "outputs": [
    {
     "data": {
      "text/html": [
       "<div>\n",
       "<style scoped>\n",
       "    .dataframe tbody tr th:only-of-type {\n",
       "        vertical-align: middle;\n",
       "    }\n",
       "\n",
       "    .dataframe tbody tr th {\n",
       "        vertical-align: top;\n",
       "    }\n",
       "\n",
       "    .dataframe thead th {\n",
       "        text-align: right;\n",
       "    }\n",
       "</style>\n",
       "<table border=\"1\" class=\"dataframe\">\n",
       "  <thead>\n",
       "    <tr style=\"text-align: right;\">\n",
       "      <th></th>\n",
       "      <th>Unnamed: 0</th>\n",
       "      <th>object_id</th>\n",
       "      <th>line_number</th>\n",
       "      <th>description</th>\n",
       "      <th>value</th>\n",
       "      <th>name</th>\n",
       "    </tr>\n",
       "  </thead>\n",
       "  <tbody>\n",
       "    <tr>\n",
       "      <th>0</th>\n",
       "      <td>0</td>\n",
       "      <td>202000949349300500</td>\n",
       "      <td>Part IX Line 1; col (A)</td>\n",
       "      <td>Grants to governments and organizations in the...</td>\n",
       "      <td>290690</td>\n",
       "      <td>Virginia Gay Hospital Health Care</td>\n",
       "    </tr>\n",
       "    <tr>\n",
       "      <th>1</th>\n",
       "      <td>1</td>\n",
       "      <td>202000949349300500</td>\n",
       "      <td>Part IX Line 25; col (A)</td>\n",
       "      <td>Total functional expenses; Total</td>\n",
       "      <td>290690</td>\n",
       "      <td>Virginia Gay Hospital Health Care</td>\n",
       "    </tr>\n",
       "    <tr>\n",
       "      <th>2</th>\n",
       "      <td>2</td>\n",
       "      <td>202000949349300500</td>\n",
       "      <td>Part IX Line 25; col (B)</td>\n",
       "      <td>Total functional expenses; Program services</td>\n",
       "      <td>290690</td>\n",
       "      <td>Virginia Gay Hospital Health Care</td>\n",
       "    </tr>\n",
       "    <tr>\n",
       "      <th>3</th>\n",
       "      <td>3</td>\n",
       "      <td>202000949349300500</td>\n",
       "      <td>Part IX Line 25; col (C)</td>\n",
       "      <td>Total functional expenses; Management and general</td>\n",
       "      <td>0</td>\n",
       "      <td>Virginia Gay Hospital Health Care</td>\n",
       "    </tr>\n",
       "    <tr>\n",
       "      <th>4</th>\n",
       "      <td>4</td>\n",
       "      <td>202000949349300500</td>\n",
       "      <td>Part IX Line 25; col (D)</td>\n",
       "      <td>Total functional expenses; Fundraising</td>\n",
       "      <td>0</td>\n",
       "      <td>Virginia Gay Hospital Health Care</td>\n",
       "    </tr>\n",
       "  </tbody>\n",
       "</table>\n",
       "</div>"
      ],
      "text/plain": [
       "   Unnamed: 0           object_id               line_number  \\\n",
       "0           0  202000949349300500   Part IX Line 1; col (A)   \n",
       "1           1  202000949349300500  Part IX Line 25; col (A)   \n",
       "2           2  202000949349300500  Part IX Line 25; col (B)   \n",
       "3           3  202000949349300500  Part IX Line 25; col (C)   \n",
       "4           4  202000949349300500  Part IX Line 25; col (D)   \n",
       "\n",
       "                                         description   value  \\\n",
       "0  Grants to governments and organizations in the...  290690   \n",
       "1                   Total functional expenses; Total  290690   \n",
       "2        Total functional expenses; Program services  290690   \n",
       "3  Total functional expenses; Management and general       0   \n",
       "4             Total functional expenses; Fundraising       0   \n",
       "\n",
       "                                name  \n",
       "0  Virginia Gay Hospital Health Care  \n",
       "1  Virginia Gay Hospital Health Care  \n",
       "2  Virginia Gay Hospital Health Care  \n",
       "3  Virginia Gay Hospital Health Care  \n",
       "4  Virginia Gay Hospital Health Care  "
      ]
     },
     "execution_count": 2,
     "metadata": {},
     "output_type": "execute_result"
    }
   ],
   "source": [
    "sample.head()"
   ]
  },
  {
   "cell_type": "code",
   "execution_count": 3,
   "metadata": {},
   "outputs": [
    {
     "data": {
      "text/plain": [
       "Other expenses; Total                                                                                                            81595\n",
       "Total functional expenses; Total                                                                                                 25168\n",
       "Total functional expenses; Program services                                                                                      25165\n",
       "Total functional expenses; Management and general                                                                                25165\n",
       "Total functional expenses; Fundraising                                                                                           25165\n",
       "Office expenses; Total                                                                                                           22017\n",
       "Depreciation, depletion, and amortization; Total                                                                                 19883\n",
       "Fees for services (non-employees): Other; Total                                                                                  19772\n",
       "Other salaries and wages; Total                                                                                                  19725\n",
       "Travel; Total                                                                                                                    19256\n",
       "Fees for services (non-employees): accounting; Total                                                                             19158\n",
       "Insurance; Total                                                                                                                 18945\n",
       "Occupancy; Total                                                                                                                 18916\n",
       "Other employee benefits; Total                                                                                                   18737\n",
       "Payroll taxes; Total                                                                                                             18684\n",
       "Advertising; Total                                                                                                               18230\n",
       "Compensation of current officers, directors, and key employees; Total                                                            17531\n",
       "Grants to governments and organizations in the U.S. Complete Parts I and III of Schedule I if total exceeds $5,000; Total        17235\n",
       "Pension plan contributions; Total                                                                                                16627\n",
       "Fees for services (non-employees): Legal; Total                                                                                  16606\n",
       "Interest; Total                                                                                                                  16537\n",
       "All other expenses; Total                                                                                                        16422\n",
       "Conferences, conventions and meetings; Total                                                                                     16056\n",
       "Information technology; Total                                                                                                    15100\n",
       "Fees for services (non-employees): Investment management fees; Total                                                             12311\n",
       "Fees for services (non-employees): Management; Total                                                                             11894\n",
       "Grants and other assistance to individuals in the U.S. Complete Parts II and III of Schedule I if total exceeds $5,000; Total    11790\n",
       "Fees for services (non-employees): Lobbying; Total                                                                               10646\n",
       "Compensation and other distributions not included above to disqualified persons; Total                                            9083\n",
       "Payments to affiliates; Total                                                                                                     8493\n",
       "Fees for services (non-employees): Professional fundraising; Total                                                                8207\n",
       "Grants and other assistance to governments, organizations and individuals outside the U.S.; Total                                 8137\n",
       "Benefits paid to or for members; Total                                                                                            8017\n",
       "Royalties; Total                                                                                                                  7964\n",
       "Payments of travel or entertainment expenses for any Federal, state or local public officials; Total                              7924\n",
       "Total book value                                                                                                                  7724\n",
       "Total joint costs; Total                                                                                                           778\n",
       "Total joint costs; Program services                                                                                                 78\n",
       "Total joint costs; Fundraising                                                                                                      76\n",
       "Total joint costs; Management and general                                                                                           75\n",
       "Name: description, dtype: int64"
      ]
     },
     "execution_count": 3,
     "metadata": {},
     "output_type": "execute_result"
    }
   ],
   "source": [
    "#get list of descriptions\n",
    "sample['description'].value_counts()"
   ]
  },
  {
   "cell_type": "code",
   "execution_count": 4,
   "metadata": {},
   "outputs": [],
   "source": [
    "#drop irrelevant rows\n",
    "sample.drop(sample[sample['description']==\"Total book value\"].index, inplace=True)\n",
    "sample.drop(sample[sample['description']==\"Total joint costs; Program services\"].index, inplace=True)\n",
    "sample.drop(sample[sample['description']==\"Total joint costs; Fundraising\"].index, inplace=True)\n",
    "sample.drop(sample[sample['description']==\"Total joint costs; Management and general\"].index, inplace=True)\n",
    "sample.drop(sample[sample['description']==\"Total functional expenses; Program services\"].index, inplace=True)\n",
    "sample.drop(sample[sample['description']==\"Total functional expenses; Management and general\"].index, inplace=True)\n",
    "sample.drop(sample[sample['description']==\"Total functional expenses; Fundraising\"].index, inplace=True)\n"
   ]
  },
  {
   "cell_type": "code",
   "execution_count": 5,
   "metadata": {},
   "outputs": [
    {
     "name": "stdout",
     "output_type": "stream",
     "text": [
      "<class 'pandas.core.frame.DataFrame'>\n",
      "Int64Index: 557444 entries, 0 to 640887\n",
      "Data columns (total 6 columns):\n",
      " #   Column       Non-Null Count   Dtype \n",
      "---  ------       --------------   ----- \n",
      " 0   Unnamed: 0   557444 non-null  int64 \n",
      " 1   object_id    557444 non-null  int64 \n",
      " 2   line_number  557444 non-null  object\n",
      " 3   description  557444 non-null  object\n",
      " 4   value        557444 non-null  int64 \n",
      " 5   name         557444 non-null  object\n",
      "dtypes: int64(3), object(3)\n",
      "memory usage: 29.8+ MB\n"
     ]
    }
   ],
   "source": [
    "#check data\n",
    "sample.info()"
   ]
  },
  {
   "cell_type": "code",
   "execution_count": 6,
   "metadata": {},
   "outputs": [
    {
     "data": {
      "text/plain": [
       "['Part IX Line 10; col (A)',\n",
       " 'Part IX Line 11a; col (A)',\n",
       " 'Part IX Line 11b; col (A)',\n",
       " 'Part IX Line 11c; col (A)',\n",
       " 'Part IX Line 11d; col (A)',\n",
       " 'Part IX Line 11e; col (A)',\n",
       " 'Part IX Line 11f; col (A)',\n",
       " 'Part IX Line 11g; col (A)',\n",
       " 'Part IX Line 12; col (A)',\n",
       " 'Part IX Line 13; col (A)',\n",
       " 'Part IX Line 14; col (A)',\n",
       " 'Part IX Line 15; col (A)',\n",
       " 'Part IX Line 16; col (A)',\n",
       " 'Part IX Line 17; col (A)',\n",
       " 'Part IX Line 18; col (A)',\n",
       " 'Part IX Line 19; col (A)',\n",
       " 'Part IX Line 1; col (A)',\n",
       " 'Part IX Line 20; col (A)',\n",
       " 'Part IX Line 21; col (A)',\n",
       " 'Part IX Line 22; col (A)',\n",
       " 'Part IX Line 23; col (A)',\n",
       " 'Part IX Line 24a - 24d; col (A)',\n",
       " 'Part IX Line 24a - 24e; col (A)',\n",
       " 'Part IX Line 24e; col (A)',\n",
       " 'Part IX Line 24f; col (A)',\n",
       " 'Part IX Line 25; col (A)',\n",
       " 'Part IX Line 26; col (A)',\n",
       " 'Part IX Line 2; col (A)',\n",
       " 'Part IX Line 3; col (A)',\n",
       " 'Part IX Line 4; col (A)',\n",
       " 'Part IX Line 5; col (A)',\n",
       " 'Part IX Line 6; col (A)',\n",
       " 'Part IX Line 7; col (A)',\n",
       " 'Part IX Line 8; col (A)',\n",
       " 'Part IX Line 9; col (A)']"
      ]
     },
     "execution_count": 6,
     "metadata": {},
     "output_type": "execute_result"
    }
   ],
   "source": [
    "#check for unique lines\n",
    "sorted(sample['line_number'].unique())"
   ]
  },
  {
   "cell_type": "code",
   "execution_count": 7,
   "metadata": {},
   "outputs": [],
   "source": [
    "#get all rows for Line 24a - 24d\n",
    "test_24ad = sample[sample['line_number']=='Part IX Line 24a - 24d; col (A)']\n",
    "#get all rows for Line 24e\n",
    "test_24e = sample[sample['line_number']=='Part IX Line 24e; col (A)']\n",
    "\n",
    "# add all the values for 24a to 24e\n",
    "for i in test_24e['object_id']:\n",
    "    #set count to zero for each object_id\n",
    "    count = 0 \n",
    "    #add count of Line 24e\n",
    "    count = count + test_24e['value'].where(test_24e['object_id']==i).sum()\n",
    "    #add count of Line 24a-d (4 lines)\n",
    "    count = count + test_24ad['value'].where(test_24ad['object_id']==i).sum()\n",
    "    #get index of object_id\n",
    "    i_index = test_24e[test_24e['object_id']==i].index\n",
    "    #update sample with total value at Line 24e\n",
    "    sample.at[i_index,'value'] = count\n",
    "    #rename line 24e to Line 24com\n",
    "    sample.at[i_index,'line_number'] = 'Part IX Line 24com'\n",
    "\n",
    "#drop Line 24a - 24d for rows with added sum in Line 24e\n",
    "for i in test_24e['object_id']:\n",
    "    loc_24 = sample[sample['object_id']==i]\n",
    "    loc_index = loc_24[loc_24['line_number'] =='Part IX Line 24a - 24d; col (A)'].index\n",
    "    sample.drop(loc_index, inplace=True)\n",
    "         "
   ]
  },
  {
   "cell_type": "code",
   "execution_count": 8,
   "metadata": {},
   "outputs": [],
   "source": [
    "#get all rows for Line 24a - 24d that did not have 24e\n",
    "test_24adNOTe = sample[sample['line_number']=='Part IX Line 24a - 24d; col (A)']\n",
    "\n",
    "# add all the values for 24a to 24d\n",
    "for i in test_24adNOTe['object_id']:\n",
    "    #set count to zero for each object_id\n",
    "    count = 0 \n",
    "    #add count of Line 24a-d \n",
    "    count = count + test_24adNOTe['value'].where(test_24adNOTe['object_id']==i).sum()\n",
    "    #get index of object_id\n",
    "    i_index = test_24adNOTe[test_24adNOTe['object_id']==i].index\n",
    "    #update sample with total value\n",
    "    sample.at[i_index,'value'] = count\n",
    "    #change the name of the file line to Line 24com\n",
    "    sample.at[i_index[0],'line_number'] = 'Part IX Line 24com'\n"
   ]
  },
  {
   "cell_type": "code",
   "execution_count": 9,
   "metadata": {},
   "outputs": [],
   "source": [
    "#get list of Line 24com\n",
    "test_24com = sample[sample['line_number']=='Part IX Line 24com']\n",
    "\n",
    "#drop Line 24a - 24d for rows with added sum in Line 24com\n",
    "for i in test_24com['object_id']:\n",
    "    l_24 = sample[sample['object_id']==i]\n",
    "    l_index = l_24[l_24['line_number'] =='Part IX Line 24a - 24d; col (A)'].index\n",
    "    sample.drop(l_index, inplace=True)\n"
   ]
  },
  {
   "cell_type": "code",
   "execution_count": 10,
   "metadata": {},
   "outputs": [],
   "source": [
    "#get all rows for Line 24a - 24e\n",
    "test_24ae = sample[sample['line_number']=='Part IX Line 24a - 24e; col (A)']\n",
    "#get all rows for Line 24e\n",
    "test_24f = sample[sample['line_number']=='Part IX Line 24f; col (A)']\n",
    "\n",
    "# add all the values for 24a to 24e\n",
    "for i in test_24f['object_id']:\n",
    "    #set count to zero for each object_id\n",
    "    count = 0 \n",
    "    #add count of Line 24e\n",
    "    count = count + test_24f['value'].where(test_24f['object_id']==i).sum()\n",
    "    #add count of Line 24a-d (4 lines)\n",
    "    count = count + test_24ae['value'].where(test_24ae['object_id']==i).sum()\n",
    "    #get index of object_id\n",
    "    i_index = test_24f[test_24f['object_id']==i].index\n",
    "    #update sample with total value at Line 24e\n",
    "    sample.at[i_index,'value'] = count\n",
    "    #rename line 24e to Line 24com\n",
    "    sample.at[i_index,'line_number'] = 'Part IX Line 24com'\n",
    "\n",
    "#drop Line 24a - 24e for rows with added sum in Line 24f\n",
    "for i in test_24f['object_id']:\n",
    "    loc_24 = sample[sample['object_id']==i]\n",
    "    loc_index = loc_24[loc_24['line_number'] =='Part IX Line 24a - 24e; col (A)'].index\n",
    "    sample.drop(loc_index, inplace=True)"
   ]
  },
  {
   "cell_type": "code",
   "execution_count": 11,
   "metadata": {},
   "outputs": [],
   "source": [
    "#get all rows for Line 24a - 24e that did not have 24f\n",
    "test_24aeNOTf = sample[sample['line_number']=='Part IX Line 24a - 24e; col (A)']\n",
    "\n",
    "# add all the values for 24a to 24e\n",
    "for i in test_24aeNOTf['object_id']:\n",
    "    #set count to zero for each object_id\n",
    "    count = 0 \n",
    "    #add count of Line 24a-e\n",
    "    count = count + test_24aeNOTf['value'].where(test_24aeNOTf['object_id']==i).sum()\n",
    "    #get index of object_id\n",
    "    i_index = test_24aeNOTf[test_24aeNOTf['object_id']==i].index\n",
    "    #update sample with total value\n",
    "    sample.at[i_index,'value'] = count\n",
    "    #change the name of the file line to Line 24com\n",
    "    sample.at[i_index[0],'line_number'] = 'Part IX Line 24com'\n"
   ]
  },
  {
   "cell_type": "code",
   "execution_count": 12,
   "metadata": {},
   "outputs": [],
   "source": [
    "#get list of Line 24com\n",
    "test_24com = sample[sample['line_number']=='Part IX Line 24com']\n",
    "\n",
    "#drop Line 24a - 24e for rows with added sum in Line 24com\n",
    "for i in test_24com['object_id']:\n",
    "    l_24 = sample[sample['object_id']==i]\n",
    "    l_index = l_24[l_24['line_number'] =='Part IX Line 24a - 24e; col (A)'].index\n",
    "    sample.drop(l_index, inplace=True)"
   ]
  },
  {
   "cell_type": "code",
   "execution_count": 13,
   "metadata": {},
   "outputs": [],
   "source": [
    "#get list of Line 24 combined \n",
    "test_24com = sample[sample['line_number']=='Part IX Line 24com']\n",
    "\n",
    "#replace all Part IX Line 24com description's with \"All other expenses\"\n",
    "sample.at[test_24com.index,'description'] = \"All other expenses\"\n",
    "    \n"
   ]
  },
  {
   "cell_type": "code",
   "execution_count": 14,
   "metadata": {},
   "outputs": [
    {
     "data": {
      "text/plain": [
       "['Advertising; Total',\n",
       " 'All other expenses',\n",
       " 'Benefits paid to or for members; Total',\n",
       " 'Compensation and other distributions not included above to disqualified persons; Total',\n",
       " 'Compensation of current officers, directors, and key employees; Total',\n",
       " 'Conferences, conventions and meetings; Total',\n",
       " 'Depreciation, depletion, and amortization; Total',\n",
       " 'Fees for services (non-employees): Investment management fees; Total',\n",
       " 'Fees for services (non-employees): Legal; Total',\n",
       " 'Fees for services (non-employees): Lobbying; Total',\n",
       " 'Fees for services (non-employees): Management; Total',\n",
       " 'Fees for services (non-employees): Other; Total',\n",
       " 'Fees for services (non-employees): Professional fundraising; Total',\n",
       " 'Fees for services (non-employees): accounting; Total',\n",
       " 'Grants and other assistance to governments, organizations and individuals outside the U.S.; Total',\n",
       " 'Grants and other assistance to individuals in the U.S. Complete Parts II and III of Schedule I if total exceeds $5,000; Total',\n",
       " 'Grants to governments and organizations in the U.S. Complete Parts I and III of Schedule I if total exceeds $5,000; Total',\n",
       " 'Information technology; Total',\n",
       " 'Insurance; Total',\n",
       " 'Interest; Total',\n",
       " 'Occupancy; Total',\n",
       " 'Office expenses; Total',\n",
       " 'Other employee benefits; Total',\n",
       " 'Other salaries and wages; Total',\n",
       " 'Payments of travel or entertainment expenses for any Federal, state or local public officials; Total',\n",
       " 'Payments to affiliates; Total',\n",
       " 'Payroll taxes; Total',\n",
       " 'Pension plan contributions; Total',\n",
       " 'Royalties; Total',\n",
       " 'Total functional expenses; Total',\n",
       " 'Total joint costs; Total',\n",
       " 'Travel; Total']"
      ]
     },
     "execution_count": 14,
     "metadata": {},
     "output_type": "execute_result"
    }
   ],
   "source": [
    "#look at descriptions\n",
    "sorted(sample['description'].unique())"
   ]
  },
  {
   "cell_type": "code",
   "execution_count": 15,
   "metadata": {},
   "outputs": [],
   "source": [
    "#remove \"Total\" suffix from the descriptions\n",
    "sample['description'] = sample['description'].str.replace('; Total', '')\n",
    "\n",
    "#get index for 'Fees for services (non-employees)'\n",
    "Imf_index = sample[sample['description']=='Fees for services (non-employees): Investment management fees'].index\n",
    "legal_index = sample[sample['description']=='Fees for services (non-employees): Legal'].index\n",
    "lobbying_index = sample[sample['description']=='Fees for services (non-employees): Lobbying'].index\n",
    "management_index = sample[sample['description']=='Fees for services (non-employees): Management'].index\n",
    "other_index = sample[sample['description']=='Fees for services (non-employees): Other'].index\n",
    "pf_index = sample[sample['description']=='Fees for services (non-employees): Professional fundraising'].index\n",
    "accounting_index = sample[sample['description']=='Fees for services (non-employees): accounting'].index\n",
    "\n",
    "#replace label\n",
    "sample.at[Imf_index,'description'] = 'Investment management fees'\n",
    "sample.at[legal_index,'description'] = 'Legal fees'\n",
    "sample.at[lobbying_index,'description'] = 'Lobbying fees'\n",
    "sample.at[management_index,'description'] = 'Management fees'\n",
    "sample.at[other_index,'description'] = 'Other fees'\n",
    "sample.at[pf_index,'description'] = 'Professional fundraising fees'\n",
    "sample.at[accounting_index,'description'] = 'Accounting fees'"
   ]
  },
  {
   "cell_type": "code",
   "execution_count": 16,
   "metadata": {},
   "outputs": [],
   "source": [
    "#get all rows for Grants and other assistance to individuals in the U.S\n",
    "grant_ind = sample[sample['description'].str.contains('Grants and other assistance to individuals in the U.S')]\n",
    "#get all rows for Grants to governments and organizations in the U.S\n",
    "grant_go = sample[sample['description'].str.contains('Grants to governments and organizations in the U.S')]\n",
    "\n",
    "# add all the values for Grants in the U.S.\n",
    "for i in grant_go['object_id']:\n",
    "    # set sum to zero for each object_id\n",
    "    value_sum = 0 \n",
    "    # add value of individual grant\n",
    "    value_sum = value_sum + grant_ind['value'].where(grant_ind['object_id']==i).sum()\n",
    "    # add value of government grant\n",
    "    value_sum = value_sum + grant_go['value'].where(grant_go['object_id']==i).sum()\n",
    "    # get index of grant_go\n",
    "    go_index = grant_go[grant_go['object_id']==i].index\n",
    "    #update sumed value\n",
    "    sample.at[go_index,'value'] = value_sum\n",
    "    #rename grant description\n",
    "    sample.at[go_index,'description'] = 'Grants and other assistance to governments, organizations and individuals in the U.S'\n",
    "    "
   ]
  },
  {
   "cell_type": "code",
   "execution_count": 17,
   "metadata": {},
   "outputs": [],
   "source": [
    "#get list of summed grants in the U.S.\n",
    "line_1 = sample[(sample['line_number']=='Part IX Line 1; col (A)')]\n",
    "\n",
    "#drop lines that have individual grants,\n",
    "for i in line_1['object_id']:\n",
    "    line_samp = sample[(sample['object_id']==i)]\n",
    "    line_2index = line_samp[(line_samp['line_number']=='Part IX Line 2; col (A)')].index\n",
    "    sample.drop(line_2index, inplace=True)\n"
   ]
  },
  {
   "cell_type": "code",
   "execution_count": 18,
   "metadata": {},
   "outputs": [],
   "source": [
    "# get list of remaining individual grants that didn't have line_1\n",
    "line_2 = sample[(sample['line_number']=='Part IX Line 2; col (A)')]\n",
    "\n",
    "# rename grant description\n",
    "for i in line_2['object_id']:\n",
    "    line2_samp = sample[(sample['object_id']==i)]\n",
    "    line2_index = line2_samp[(line2_samp['line_number']=='Part IX Line 2; col (A)')].index\n",
    "    sample.at[line2_index,'description'] = 'Grants and other assistance to governments, organizations and individuals in the U.S'\n"
   ]
  },
  {
   "cell_type": "code",
   "execution_count": 19,
   "metadata": {},
   "outputs": [],
   "source": [
    "#get indexes of grants in U.S.\n",
    "len_grant = sample[(sample['description']=='Grants and other assistance to governments, organizations and individuals in the U.S')].index\n",
    "\n",
    "# rename lines\n",
    "sample.at[len_grant,'line_number'] = 'Part IX Line 1/2'\n",
    "    "
   ]
  },
  {
   "cell_type": "code",
   "execution_count": 68,
   "metadata": {},
   "outputs": [
    {
     "name": "stderr",
     "output_type": "stream",
     "text": [
      "<ipython-input-68-730069f97074>:2: FutureWarning: The default value of regex will change from True to False in a future version.\n",
      "  sample['line_number'] = sample['line_number'].str.replace('; col \\(A\\)', '')\n"
     ]
    }
   ],
   "source": [
    "#remove col(A) from from lines\n",
    "sample['line_number'] = sample['line_number'].str.replace('; col \\(A\\)', '')\n"
   ]
  },
  {
   "cell_type": "code",
   "execution_count": 69,
   "metadata": {},
   "outputs": [],
   "source": [
    "#save date as csv\n",
    "sample.to_csv(\"cleaned_data.csv\",index=False)"
   ]
  },
  {
   "cell_type": "code",
   "execution_count": null,
   "metadata": {},
   "outputs": [],
   "source": []
  },
  {
   "cell_type": "code",
   "execution_count": null,
   "metadata": {},
   "outputs": [],
   "source": []
  },
  {
   "cell_type": "code",
   "execution_count": null,
   "metadata": {},
   "outputs": [],
   "source": []
  },
  {
   "cell_type": "code",
   "execution_count": null,
   "metadata": {},
   "outputs": [],
   "source": []
  },
  {
   "cell_type": "code",
   "execution_count": null,
   "metadata": {},
   "outputs": [],
   "source": []
  }
 ],
 "metadata": {
  "kernelspec": {
   "display_name": "Python 3",
   "language": "python",
   "name": "python3"
  },
  "language_info": {
   "codemirror_mode": {
    "name": "ipython",
    "version": 3
   },
   "file_extension": ".py",
   "mimetype": "text/x-python",
   "name": "python",
   "nbconvert_exporter": "python",
   "pygments_lexer": "ipython3",
   "version": "3.8.3"
  }
 },
 "nbformat": 4,
 "nbformat_minor": 4
}
