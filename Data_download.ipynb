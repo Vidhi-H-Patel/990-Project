{
 "cells": [
  {
   "cell_type": "code",
   "execution_count": 4,
   "metadata": {},
   "outputs": [
    {
     "name": "stderr",
     "output_type": "stream",
     "text": [
      "/Users/vidhipatel/opt/anaconda3/lib/python3.8/site-packages/IPython/core/interactiveshell.py:3071: DtypeWarning: Columns (6) have mixed types.Specify dtype option on import or set low_memory=False.\n",
      "  has_raised = await self.run_ast_nodes(code_ast.body, cell_name,\n"
     ]
    }
   ],
   "source": [
    "#import libraries \n",
    "import pandas as pd\n",
    "import numpy as np\n",
    "from sklearn import metrics\n",
    "import matplotlib.pyplot as plt\n",
    "%matplotlib inline \n",
    "import seaborn as sns\n",
    "\n",
    "#import index files for all years\n",
    "index2011 = pd.read_csv(\"index_2011.csv\")\n",
    "index2012 = pd.read_csv(\"index_2012.csv\")\n",
    "index2013 = pd.read_csv(\"index_2013.csv\")\n",
    "index2014 = pd.read_csv(\"index_2014.csv\")\n",
    "index2015 = pd.read_csv(\"index_2015.csv\")\n",
    "index2016 = pd.read_csv(\"index_2016.csv\")\n",
    "index2017 = pd.read_csv(\"index_2017.csv\")\n",
    "index2018 = pd.read_csv(\"index_2018.csv\")\n",
    "index2019 = pd.read_csv(\"index_2019.csv\")\n",
    "index2020 = pd.read_csv(\"index_2020.csv\")\n",
    "index2021 = pd.read_csv(\"index_2021.csv\")"
   ]
  },
  {
   "cell_type": "code",
   "execution_count": 5,
   "metadata": {},
   "outputs": [],
   "source": [
    "#format 2020 index file as it was different from the rest\n",
    "index2020[\"OBJECT_ID\"] = index2020[\"DLN\"]\n",
    "index2020[\"DLN\"] = index2020[\"RETURN_TYPE\"]\n",
    "index2020[\"RETURN_TYPE\"] = index2020[\"TAXPAYER_NAME\"]\n",
    "index2020[\"TAXPAYER_NAME\"] = index2020[\"SUB_DATE\"]\n",
    "index2020[\"SUB_DATE\"] = index2020[\"TAX_PERIOD\"]\n",
    "index2020[\"TAX_PERIOD\"] = index2020[\"EIN\"]\n",
    "index2020[\"EIN\"] = index2020[\"FILING_TYPE\"]\n",
    "index2020[\"FILING_TYPE\"] = index2020[\"RETURN_ID\"]\n",
    "index2020.reset_index(inplace=True)\n",
    "index2020[\"RETURN_ID\"] = index2020[\"index\"]\n",
    "index2020.drop(\"index\",axis=1,inplace=True)\n",
    "\n",
    "#format 2021 index file as it was different from the rest\n",
    "index2021[\"OBJECT_ID\"] = index2021[\"DLN\"]\n",
    "index2021[\"DLN\"] = index2021[\"RETURN_TYPE\"]\n",
    "index2021[\"RETURN_TYPE\"] = index2021[\"TAXPAYER_NAME\"]\n",
    "index2021[\"TAXPAYER_NAME\"] = index2021[\"SUB_DATE\"]\n",
    "index2021[\"SUB_DATE\"] = index2021[\"TAX_PERIOD\"]\n",
    "index2021[\"TAX_PERIOD\"] = index2021[\"EIN\"]\n",
    "index2021[\"EIN\"] = index2021[\"FILING_TYPE\"]\n",
    "index2021[\"FILING_TYPE\"] = index2021[\"RETURN_ID\"]\n",
    "index2021.reset_index(inplace=True)\n",
    "index2021[\"RETURN_ID\"] = index2021[\"index\"]\n",
    "index2021.drop(\"index\",axis=1,inplace=True)"
   ]
  },
  {
   "cell_type": "code",
   "execution_count": 6,
   "metadata": {},
   "outputs": [],
   "source": [
    "#add A column for year in all the index files\n",
    "index2011[\"YEAR\"]= 2011\n",
    "index2012[\"YEAR\"]= 2012\n",
    "index2013[\"YEAR\"]= 2013\n",
    "index2014[\"YEAR\"]= 2014\n",
    "index2015[\"YEAR\"]= 2015\n",
    "index2016[\"YEAR\"]= 2016\n",
    "index2017[\"YEAR\"]= 2017\n",
    "index2018[\"YEAR\"]= 2018\n",
    "index2019[\"YEAR\"]= 2019\n",
    "index2020[\"YEAR\"]= 2020\n",
    "index2021[\"YEAR\"]= 2021"
   ]
  },
  {
   "cell_type": "code",
   "execution_count": 7,
   "metadata": {},
   "outputs": [],
   "source": [
    "#search for 990 & Hopitals for all years\n",
    "index2011A = index2011[index2011[\"RETURN_TYPE\"]==\"990\"] \n",
    "index2011B = index2011A[index2011A['TAXPAYER_NAME'].str.contains(\"HOSPITAL\")==True]\n",
    "index2012A = index2012[index2012[\"RETURN_TYPE\"]==\"990\"] \n",
    "index2012B = index2012A[index2012A['TAXPAYER_NAME'].str.contains(\"HOSPITAL\")==True]\n",
    "index2013A = index2013[index2013[\"RETURN_TYPE\"]==\"990\"] \n",
    "index2013B = index2013A[index2013A['TAXPAYER_NAME'].str.contains(\"HOSPITAL\")==True]\n",
    "index2014A = index2014[index2014[\"RETURN_TYPE\"]==\"990\"] \n",
    "index2014B = index2014A[index2014A['TAXPAYER_NAME'].str.contains(\"HOSPITAL\")==True]\n",
    "index2015A = index2015[index2015[\"RETURN_TYPE\"]==\"990\"] \n",
    "index2015B = index2015A[index2015A['TAXPAYER_NAME'].str.contains(\"HOSPITAL\")==True]\n",
    "index2016A = index2016[index2016[\"RETURN_TYPE\"]==\"990\"] \n",
    "index2016B = index2016A[index2016A['TAXPAYER_NAME'].str.contains(\"HOSPITAL\")==True]\n",
    "index2017A = index2017[index2017[\"RETURN_TYPE\"]==\"990\"] \n",
    "index2017B = index2017A[index2017A['TAXPAYER_NAME'].str.contains(\"HOSPITAL\")==True]\n",
    "index2018A = index2018[index2018[\"RETURN_TYPE\"]==\"990\"] \n",
    "index2018B = index2018A[index2018A['TAXPAYER_NAME'].str.contains(\"HOSPITAL\")==True]\n",
    "index2019A = index2019[index2019[\"RETURN_TYPE\"]==\"990\"] \n",
    "index2019B = index2019A[index2019A['TAXPAYER_NAME'].str.contains(\"HOSPITAL\")==True]\n",
    "index2020A = index2020[index2020[\"RETURN_TYPE\"]==\"990\"] \n",
    "index2020B = index2020A[index2020A['TAXPAYER_NAME'].str.contains(\"HOSPITAL\")==True]\n",
    "index2021A = index2021[index2021[\"RETURN_TYPE\"]==\"990\"] \n",
    "index2021B = index2021A[index2021A['TAXPAYER_NAME'].str.contains(\"HOSPITAL\")==True]"
   ]
  },
  {
   "cell_type": "code",
   "execution_count": 8,
   "metadata": {},
   "outputs": [],
   "source": [
    "#create new dataframe\n",
    "index = pd.DataFrame()\n",
    "#add all the index files into one \n",
    "index = index.append(index2011B,ignore_index=True)\n",
    "index = index.append(index2012B,ignore_index=True)\n",
    "index = index.append(index2013B,ignore_index=True)\n",
    "index = index.append(index2014B,ignore_index=True)\n",
    "index = index.append(index2015B,ignore_index=True)\n",
    "index = index.append(index2016B,ignore_index=True)\n",
    "index = index.append(index2017B,ignore_index=True)\n",
    "index = index.append(index2018B,ignore_index=True)\n",
    "index = index.append(index2019B,ignore_index=True)\n",
    "index = index.append(index2020B,ignore_index=True)\n",
    "index = index.append(index2021B,ignore_index=True)"
   ]
  },
  {
   "cell_type": "code",
   "execution_count": 9,
   "metadata": {},
   "outputs": [
    {
     "name": "stdout",
     "output_type": "stream",
     "text": [
      "<class 'pandas.core.frame.DataFrame'>\n",
      "RangeIndex: 26404 entries, 0 to 26403\n",
      "Data columns (total 10 columns):\n",
      " #   Column         Non-Null Count  Dtype \n",
      "---  ------         --------------  ----- \n",
      " 0   RETURN_ID      26404 non-null  int64 \n",
      " 1   FILING_TYPE    26404 non-null  object\n",
      " 2   EIN            26404 non-null  int64 \n",
      " 3   TAX_PERIOD     26404 non-null  int64 \n",
      " 4   SUB_DATE       26404 non-null  object\n",
      " 5   TAXPAYER_NAME  26404 non-null  object\n",
      " 6   RETURN_TYPE    26404 non-null  object\n",
      " 7   DLN            26404 non-null  int64 \n",
      " 8   OBJECT_ID      26404 non-null  int64 \n",
      " 9   YEAR           26404 non-null  int64 \n",
      "dtypes: int64(6), object(4)\n",
      "memory usage: 2.0+ MB\n"
     ]
    }
   ],
   "source": [
    "#check file data\n",
    "index.info()"
   ]
  },
  {
   "cell_type": "code",
   "execution_count": 16,
   "metadata": {},
   "outputs": [
    {
     "name": "stdout",
     "output_type": "stream",
     "text": [
      "26404\n"
     ]
    }
   ],
   "source": [
    "#import subprocess to run terminal commands\n",
    "from subprocess import call\n",
    "\n",
    "#download all the files \n",
    "for i in index[\"OBJECT_ID\"]:\n",
    "    \n",
    "    file = open('data/' + str(i)+\".csv\", \"w\")\n",
    "    call([\"irsx\",\"--format=csv\",str(i)], stdout=file)\n",
    "    "
   ]
  },
  {
   "cell_type": "markdown",
   "metadata": {},
   "source": [
    "#### I created two folders to seperate the zero byte files and 159 byte files (version not supported).\n",
    "## Zero: 31 files\n",
    "## Version Not Supported: 1204\n",
    "## Data files: 25,168"
   ]
  },
  {
   "cell_type": "code",
   "execution_count": 147,
   "metadata": {},
   "outputs": [
    {
     "name": "stderr",
     "output_type": "stream",
     "text": [
      "<ipython-input-147-3e0324979723>:22: SettingWithCopyWarning: \n",
      "A value is trying to be set on a copy of a slice from a DataFrame.\n",
      "Try using .loc[row_indexer,col_indexer] = value instead\n",
      "\n",
      "See the caveats in the documentation: https://pandas.pydata.org/pandas-docs/stable/user_guide/indexing.html#returning-a-view-versus-a-copy\n",
      "  content_cut['name'] = name\n"
     ]
    },
    {
     "name": "stdout",
     "output_type": "stream",
     "text": [
      "25168\n"
     ]
    }
   ],
   "source": [
    "import os\n",
    "\n",
    "# to ensure we got all the files\n",
    "count = 0\n",
    "\n",
    "#open each csv file and cut part IX\n",
    "for filename in os.listdir('data/'):\n",
    "    if filename.endswith('.csv'):\n",
    "        with open(os.path.join('data/', filename)) as f:\n",
    "            #read file as csv\n",
    "            content = pd.read_csv(f)\n",
    "            #create a dataframe for only Part IX\n",
    "            content_cut = content[(content[\"line_number\"].str.contains(\"Part IX\")==True) &\n",
    "                          (content[\"description\"].str.contains(\"Total\")==True)] \n",
    "            #get rows with business name\n",
    "            nameline = content[content[\"description\"]\n",
    "                        .str.contains(\"business name line 1\",na=False, case=False)==True]\n",
    "            nameline = nameline.reset_index()\n",
    "            #get name of hospital\n",
    "            if len(nameline.index) > 1:\n",
    "                name = nameline.loc[1,'value']\n",
    "               #add name to dataframe for Part IX\n",
    "                content_cut['name'] = name\n",
    "                \n",
    "            #for some files that have name on the first index \n",
    "            else:\n",
    "                name = nameline.loc[0,'value']\n",
    "               #add name to dataframe for Part IX\n",
    "                content_cut['name'] = name\n",
    "                \n",
    "            #write file with only part IX    \n",
    "            content_cut.to_csv('Part IX/' + filename.replace(\".csv\",\"\")+\"_partIX\"+\".csv\")\n",
    "        \n",
    "        #update count               \n",
    "        count = count + 1\n",
    "        \n",
    "#check to ensure 25168 files        \n",
    "print(count)"
   ]
  },
  {
   "cell_type": "code",
   "execution_count": 168,
   "metadata": {},
   "outputs": [],
   "source": [
    "#create new dataframe\n",
    "datafile = pd.DataFrame()\n",
    "\n",
    "#open each partIX file and combine into one datafile\n",
    "for filename in os.listdir('Part IX/'):\n",
    "    if filename.endswith('.csv'):\n",
    "         with open(os.path.join('Part IX/', filename)) as f:\n",
    "                #read file as csv\n",
    "                data_part = pd.read_csv(f) \n",
    "                datafile = datafile.append(data_part,ignore_index=True)\n",
    "\n",
    "       "
   ]
  },
  {
   "cell_type": "code",
   "execution_count": 169,
   "metadata": {},
   "outputs": [
    {
     "name": "stdout",
     "output_type": "stream",
     "text": [
      "<class 'pandas.core.frame.DataFrame'>\n",
      "RangeIndex: 640892 entries, 0 to 640891\n",
      "Data columns (total 12 columns):\n",
      " #   Column         Non-Null Count   Dtype  \n",
      "---  ------         --------------   -----  \n",
      " 0   Unnamed: 0     640892 non-null  int64  \n",
      " 1   object_id      640892 non-null  int64  \n",
      " 2   form           640892 non-null  object \n",
      " 3   line_number    640892 non-null  object \n",
      " 4   description    640892 non-null  object \n",
      " 5   value          640892 non-null  int64  \n",
      " 6   variable_name  448639 non-null  object \n",
      " 7   xpath          640892 non-null  object \n",
      " 8   in_group       640892 non-null  bool   \n",
      " 9   group_name     81595 non-null   object \n",
      " 10  group_index    81595 non-null   float64\n",
      " 11  name           640892 non-null  object \n",
      "dtypes: bool(1), float64(1), int64(3), object(7)\n",
      "memory usage: 54.4+ MB\n"
     ]
    }
   ],
   "source": [
    "#check file data\n",
    "datafile.info()"
   ]
  },
  {
   "cell_type": "code",
   "execution_count": 190,
   "metadata": {},
   "outputs": [],
   "source": [
    "#copy to ensure not changing original data\n",
    "sample = datafile.copy()\n",
    "#get column names\n",
    "sample.columns"
   ]
  },
  {
   "cell_type": "code",
   "execution_count": 189,
   "metadata": {},
   "outputs": [
    {
     "data": {
      "text/plain": [
       "Index(['Unnamed: 0', 'object_id', 'line_number', 'description', 'value',\n",
       "       'variable_name', 'xpath', 'in_group', 'group_index', 'name'],\n",
       "      dtype='object')"
      ]
     },
     "execution_count": 189,
     "metadata": {},
     "output_type": "execute_result"
    }
   ],
   "source": [
    "#drop irrelevent files\n",
    "sample.drop('group_name', axis=1, inplace=True)\n",
    "sample.drop('form', axis=1, inplace=True)\n",
    "sample.drop('Unnamed: 0', axis=1, inplace=True)\n",
    "sample.drop('variable_name', axis=1, inplace=True)\n",
    "sample.drop('xpath', axis=1, inplace=True)\n",
    "sample.drop('in_group', axis=1, inplace=True)\n",
    "sample.drop('group_index', axis=1, inplace=True)\n",
    "sample.head()\n"
   ]
  },
  {
   "cell_type": "code",
   "execution_count": 247,
   "metadata": {},
   "outputs": [],
   "source": [
    "#save date as csv\n",
    "sample.to_csv(\"output.csv\", index=False)"
   ]
  },
  {
   "cell_type": "code",
   "execution_count": null,
   "metadata": {},
   "outputs": [],
   "source": []
  },
  {
   "cell_type": "code",
   "execution_count": null,
   "metadata": {},
   "outputs": [],
   "source": []
  }
 ],
 "metadata": {
  "kernelspec": {
   "display_name": "Python 3",
   "language": "python",
   "name": "python3"
  },
  "language_info": {
   "codemirror_mode": {
    "name": "ipython",
    "version": 3
   },
   "file_extension": ".py",
   "mimetype": "text/x-python",
   "name": "python",
   "nbconvert_exporter": "python",
   "pygments_lexer": "ipython3",
   "version": "3.8.3"
  }
 },
 "nbformat": 4,
 "nbformat_minor": 4
}
